{
  "nbformat": 4,
  "nbformat_minor": 0,
  "metadata": {
    "kernelspec": {
      "display_name": "Python 3",
      "language": "python",
      "name": "python3"
    },
    "language_info": {
      "codemirror_mode": {
        "name": "ipython",
        "version": 3
      },
      "file_extension": ".py",
      "mimetype": "text/x-python",
      "name": "python",
      "nbconvert_exporter": "python",
      "pygments_lexer": "ipython3",
      "version": "3.7.6"
    },
    "colab": {
      "name": "recsys3.ipynb",
      "provenance": [],
      "toc_visible": true,
      "include_colab_link": true
    },
    "accelerator": "GPU"
  },
  "cells": [
    {
      "cell_type": "markdown",
      "metadata": {
        "id": "view-in-github",
        "colab_type": "text"
      },
      "source": [
        "<a href=\"https://colab.research.google.com/github/PFedorov7/CtCI-6th-Edition/blob/master/recsys3.ipynb\" target=\"_parent\"><img src=\"https://colab.research.google.com/assets/colab-badge.svg\" alt=\"Open In Colab\"/></a>"
      ]
    },
    {
      "cell_type": "code",
      "metadata": {
        "id": "499f6zgDrR8z"
      },
      "source": [
        "import pandas as pd\n",
        "\n",
        "from surprise import SVD, Dataset, Reader, accuracy, KNNBasic, SVDpp, NMF, SlopeOne, CoClustering, BaselineOnly, KNNWithMeans\n",
        "from surprise.model_selection import cross_validate\n",
        "\n",
        "from sklearn.preprocessing import LabelEncoder\n",
        "from sklearn.preprocessing import StandardScaler\n",
        "\n",
        "from lenskit.algorithms.bias import Bias\n",
        "from lenskit.algorithms.basic import Fallback\n",
        "from lenskit.algorithms.user_knn import UserUser\n",
        "from lenskit.algorithms.item_knn import ItemItem\n",
        "from lenskit.algorithms.mf_common import MFPredictor\n",
        "from lenskit.algorithms.als import BiasedMF\n",
        "from lenskit.algorithms.als import ImplicitMF \n",
        "from lenskit.algorithms.tf import IntegratedBiasMF\n",
        "from lenskit.algorithms.svd import BiasedSVD\n",
        "from lenskit.algorithms.funksvd import FunkSVD\n",
        "from lenskit.algorithms.tf import BPR\n",
        "from lenskit.algorithms import Recommender\n",
        "from lenskit.metrics.predict import rmse\n",
        "from lenskit.batch import predict\n",
        "from lenskit import datasets\n",
        "from lenskit import batch"
      ],
      "execution_count": null,
      "outputs": []
    },
    {
      "cell_type": "code",
      "metadata": {
        "id": "vviuSCyTrR8z"
      },
      "source": [
        "df_links = pd.read_csv('data/links.csv')\n",
        "df_movies = pd.read_csv('data/movies.csv')\n",
        "df_rs_train = pd.read_csv('data/ratings_train.csv')\n",
        "df_rs_test = pd.read_csv('data/ratings_test.csv')\n",
        "df_tags = pd.read_csv('data/tags.csv')"
      ],
      "execution_count": null,
      "outputs": []
    },
    {
      "cell_type": "markdown",
      "metadata": {
        "id": "VwnD9h_7rR80"
      },
      "source": [
        "### Data prepararion"
      ]
    },
    {
      "cell_type": "code",
      "metadata": {
        "id": "E_TvgiTLrR80",
        "outputId": "65737407-9b40-449b-94ae-8c5e673cae25"
      },
      "source": [
        "df_movies.head()"
      ],
      "execution_count": null,
      "outputs": [
        {
          "output_type": "execute_result",
          "data": {
            "text/html": [
              "<div>\n",
              "<style scoped>\n",
              "    .dataframe tbody tr th:only-of-type {\n",
              "        vertical-align: middle;\n",
              "    }\n",
              "\n",
              "    .dataframe tbody tr th {\n",
              "        vertical-align: top;\n",
              "    }\n",
              "\n",
              "    .dataframe thead th {\n",
              "        text-align: right;\n",
              "    }\n",
              "</style>\n",
              "<table border=\"1\" class=\"dataframe\">\n",
              "  <thead>\n",
              "    <tr style=\"text-align: right;\">\n",
              "      <th></th>\n",
              "      <th>movieId</th>\n",
              "      <th>title</th>\n",
              "      <th>genres</th>\n",
              "    </tr>\n",
              "  </thead>\n",
              "  <tbody>\n",
              "    <tr>\n",
              "      <th>0</th>\n",
              "      <td>1</td>\n",
              "      <td>Toy Story (1995)</td>\n",
              "      <td>Adventure|Animation|Children|Comedy|Fantasy</td>\n",
              "    </tr>\n",
              "    <tr>\n",
              "      <th>1</th>\n",
              "      <td>2</td>\n",
              "      <td>Jumanji (1995)</td>\n",
              "      <td>Adventure|Children|Fantasy</td>\n",
              "    </tr>\n",
              "    <tr>\n",
              "      <th>2</th>\n",
              "      <td>3</td>\n",
              "      <td>Grumpier Old Men (1995)</td>\n",
              "      <td>Comedy|Romance</td>\n",
              "    </tr>\n",
              "    <tr>\n",
              "      <th>3</th>\n",
              "      <td>4</td>\n",
              "      <td>Waiting to Exhale (1995)</td>\n",
              "      <td>Comedy|Drama|Romance</td>\n",
              "    </tr>\n",
              "    <tr>\n",
              "      <th>4</th>\n",
              "      <td>5</td>\n",
              "      <td>Father of the Bride Part II (1995)</td>\n",
              "      <td>Comedy</td>\n",
              "    </tr>\n",
              "  </tbody>\n",
              "</table>\n",
              "</div>"
            ],
            "text/plain": [
              "   movieId                               title  \\\n",
              "0        1                    Toy Story (1995)   \n",
              "1        2                      Jumanji (1995)   \n",
              "2        3             Grumpier Old Men (1995)   \n",
              "3        4            Waiting to Exhale (1995)   \n",
              "4        5  Father of the Bride Part II (1995)   \n",
              "\n",
              "                                        genres  \n",
              "0  Adventure|Animation|Children|Comedy|Fantasy  \n",
              "1                   Adventure|Children|Fantasy  \n",
              "2                               Comedy|Romance  \n",
              "3                         Comedy|Drama|Romance  \n",
              "4                                       Comedy  "
            ]
          },
          "metadata": {
            "tags": []
          },
          "execution_count": 81
        }
      ]
    },
    {
      "cell_type": "code",
      "metadata": {
        "id": "vcrHPDXrrR81"
      },
      "source": [
        "df_tags = df_tags.rename(columns = {'userId': 'user', 'movieId': 'item'}, inplace = False)\n",
        "df_movies = df_movies.rename(columns = {'movieId': 'item'}, inplace = False)"
      ],
      "execution_count": null,
      "outputs": []
    },
    {
      "cell_type": "code",
      "metadata": {
        "id": "UXK8MaVWrR81"
      },
      "source": [
        "le = LabelEncoder()\n",
        "le.fit(df_movies['title'])\n",
        "\n",
        "scaler = StandardScaler()"
      ],
      "execution_count": null,
      "outputs": []
    },
    {
      "cell_type": "code",
      "metadata": {
        "id": "WWf8Uir7rR81"
      },
      "source": [
        "### Train"
      ],
      "execution_count": null,
      "outputs": []
    },
    {
      "cell_type": "code",
      "metadata": {
        "id": "l0ifknUjrR81"
      },
      "source": [
        "df_train_tags = df_rs_train.merge(df_tags, on=['user', 'item'], how='left')\n",
        "df_train_tags_titles = df_train_tags.merge(df_movies, on=['item'], how='left')\n",
        "df_train = df_train_tags_titles.rename(\n",
        "    columns = {'timestamp_x': 'timestamp', \n",
        "               'timestamp_y': 'timestamp_tags'\n",
        "              }, inplace = False\n",
        ")\n",
        "\n",
        "df_train_encoded = df_train['genres'].str.get_dummies()\n",
        "df_train = pd.concat([df_train, df_train_encoded], axis = 1)\n",
        "df_train['title'] = le.transform(df_train['title'])\n",
        "\n",
        "df_train['datetime'] = pd.to_datetime(df_train['timestamp'], unit='s')\n",
        "\n",
        "df_train['year'] = df_train['datetime'].dt.year\n",
        "df_train['month'] = df_train['datetime'].dt.month\n",
        "df_train['day'] = df_train['datetime'].dt.day\n",
        "\n",
        "df_train = df_train.drop(['genres', 'tag', 'timestamp_tags', 'datetime'], axis = 1)"
      ],
      "execution_count": null,
      "outputs": []
    },
    {
      "cell_type": "code",
      "metadata": {
        "id": "eb3ImG_orR81",
        "outputId": "4e1a4f57-18c2-4d62-e5a2-1f0d34cc58ee"
      },
      "source": [
        "df_train.head()"
      ],
      "execution_count": null,
      "outputs": [
        {
          "output_type": "execute_result",
          "data": {
            "text/html": [
              "<div>\n",
              "<style scoped>\n",
              "    .dataframe tbody tr th:only-of-type {\n",
              "        vertical-align: middle;\n",
              "    }\n",
              "\n",
              "    .dataframe tbody tr th {\n",
              "        vertical-align: top;\n",
              "    }\n",
              "\n",
              "    .dataframe thead th {\n",
              "        text-align: right;\n",
              "    }\n",
              "</style>\n",
              "<table border=\"1\" class=\"dataframe\">\n",
              "  <thead>\n",
              "    <tr style=\"text-align: right;\">\n",
              "      <th></th>\n",
              "      <th>user</th>\n",
              "      <th>item</th>\n",
              "      <th>rating</th>\n",
              "      <th>timestamp</th>\n",
              "      <th>title</th>\n",
              "      <th>(no genres listed)</th>\n",
              "      <th>Action</th>\n",
              "      <th>Adventure</th>\n",
              "      <th>Animation</th>\n",
              "      <th>Children</th>\n",
              "      <th>...</th>\n",
              "      <th>Musical</th>\n",
              "      <th>Mystery</th>\n",
              "      <th>Romance</th>\n",
              "      <th>Sci-Fi</th>\n",
              "      <th>Thriller</th>\n",
              "      <th>War</th>\n",
              "      <th>Western</th>\n",
              "      <th>year</th>\n",
              "      <th>month</th>\n",
              "      <th>day</th>\n",
              "    </tr>\n",
              "  </thead>\n",
              "  <tbody>\n",
              "    <tr>\n",
              "      <th>0</th>\n",
              "      <td>139</td>\n",
              "      <td>5464</td>\n",
              "      <td>2.5</td>\n",
              "      <td>1453924404</td>\n",
              "      <td>7191</td>\n",
              "      <td>0</td>\n",
              "      <td>0</td>\n",
              "      <td>0</td>\n",
              "      <td>0</td>\n",
              "      <td>0</td>\n",
              "      <td>...</td>\n",
              "      <td>0</td>\n",
              "      <td>0</td>\n",
              "      <td>0</td>\n",
              "      <td>0</td>\n",
              "      <td>0</td>\n",
              "      <td>0</td>\n",
              "      <td>0</td>\n",
              "      <td>2016</td>\n",
              "      <td>1</td>\n",
              "      <td>27</td>\n",
              "    </tr>\n",
              "    <tr>\n",
              "      <th>1</th>\n",
              "      <td>359</td>\n",
              "      <td>3499</td>\n",
              "      <td>3.5</td>\n",
              "      <td>1198114431</td>\n",
              "      <td>5702</td>\n",
              "      <td>0</td>\n",
              "      <td>0</td>\n",
              "      <td>0</td>\n",
              "      <td>0</td>\n",
              "      <td>0</td>\n",
              "      <td>...</td>\n",
              "      <td>0</td>\n",
              "      <td>0</td>\n",
              "      <td>0</td>\n",
              "      <td>0</td>\n",
              "      <td>1</td>\n",
              "      <td>0</td>\n",
              "      <td>0</td>\n",
              "      <td>2007</td>\n",
              "      <td>12</td>\n",
              "      <td>20</td>\n",
              "    </tr>\n",
              "    <tr>\n",
              "      <th>2</th>\n",
              "      <td>417</td>\n",
              "      <td>2329</td>\n",
              "      <td>5.0</td>\n",
              "      <td>1530156612</td>\n",
              "      <td>420</td>\n",
              "      <td>0</td>\n",
              "      <td>0</td>\n",
              "      <td>0</td>\n",
              "      <td>0</td>\n",
              "      <td>0</td>\n",
              "      <td>...</td>\n",
              "      <td>0</td>\n",
              "      <td>0</td>\n",
              "      <td>0</td>\n",
              "      <td>0</td>\n",
              "      <td>0</td>\n",
              "      <td>0</td>\n",
              "      <td>0</td>\n",
              "      <td>2018</td>\n",
              "      <td>6</td>\n",
              "      <td>28</td>\n",
              "    </tr>\n",
              "    <tr>\n",
              "      <th>3</th>\n",
              "      <td>600</td>\n",
              "      <td>1707</td>\n",
              "      <td>3.0</td>\n",
              "      <td>1237851724</td>\n",
              "      <td>4004</td>\n",
              "      <td>0</td>\n",
              "      <td>0</td>\n",
              "      <td>0</td>\n",
              "      <td>0</td>\n",
              "      <td>1</td>\n",
              "      <td>...</td>\n",
              "      <td>0</td>\n",
              "      <td>0</td>\n",
              "      <td>0</td>\n",
              "      <td>0</td>\n",
              "      <td>0</td>\n",
              "      <td>0</td>\n",
              "      <td>0</td>\n",
              "      <td>2009</td>\n",
              "      <td>3</td>\n",
              "      <td>23</td>\n",
              "    </tr>\n",
              "    <tr>\n",
              "      <th>4</th>\n",
              "      <td>229</td>\n",
              "      <td>509</td>\n",
              "      <td>3.0</td>\n",
              "      <td>838144451</td>\n",
              "      <td>6622</td>\n",
              "      <td>0</td>\n",
              "      <td>0</td>\n",
              "      <td>0</td>\n",
              "      <td>0</td>\n",
              "      <td>0</td>\n",
              "      <td>...</td>\n",
              "      <td>0</td>\n",
              "      <td>0</td>\n",
              "      <td>1</td>\n",
              "      <td>0</td>\n",
              "      <td>0</td>\n",
              "      <td>0</td>\n",
              "      <td>0</td>\n",
              "      <td>1996</td>\n",
              "      <td>7</td>\n",
              "      <td>23</td>\n",
              "    </tr>\n",
              "  </tbody>\n",
              "</table>\n",
              "<p>5 rows × 28 columns</p>\n",
              "</div>"
            ],
            "text/plain": [
              "   user  item  rating   timestamp  title  (no genres listed)  Action  \\\n",
              "0   139  5464     2.5  1453924404   7191                   0       0   \n",
              "1   359  3499     3.5  1198114431   5702                   0       0   \n",
              "2   417  2329     5.0  1530156612    420                   0       0   \n",
              "3   600  1707     3.0  1237851724   4004                   0       0   \n",
              "4   229   509     3.0   838144451   6622                   0       0   \n",
              "\n",
              "   Adventure  Animation  Children  ...  Musical  Mystery  Romance  Sci-Fi  \\\n",
              "0          0          0         0  ...        0        0        0       0   \n",
              "1          0          0         0  ...        0        0        0       0   \n",
              "2          0          0         0  ...        0        0        0       0   \n",
              "3          0          0         1  ...        0        0        0       0   \n",
              "4          0          0         0  ...        0        0        1       0   \n",
              "\n",
              "   Thriller  War  Western  year  month  day  \n",
              "0         0    0        0  2016      1   27  \n",
              "1         1    0        0  2007     12   20  \n",
              "2         0    0        0  2018      6   28  \n",
              "3         0    0        0  2009      3   23  \n",
              "4         0    0        0  1996      7   23  \n",
              "\n",
              "[5 rows x 28 columns]"
            ]
          },
          "metadata": {
            "tags": []
          },
          "execution_count": 92
        }
      ]
    },
    {
      "cell_type": "code",
      "metadata": {
        "id": "nsttAnpArR81"
      },
      "source": [
        "### Test"
      ],
      "execution_count": null,
      "outputs": []
    },
    {
      "cell_type": "code",
      "metadata": {
        "id": "bSTupePorR81"
      },
      "source": [
        "df_test_tags = df_rs_test.merge(df_tags, on=['user', 'item'], how='left')\n",
        "df_test_tags_titles = df_test_tags.merge(df_movies, on=['item'], how='left')\n",
        "df_test = df_test_tags_titles.rename(\n",
        "    columns = {'timestamp_x': 'timestamp', \n",
        "               'timestamp_y': 'timestamp_tags'\n",
        "              }, inplace = False\n",
        ")\n",
        "\n",
        "df_test_encoded = df_test['genres'].str.get_dummies()\n",
        "df_test = pd.concat([df_test, df_test_encoded], axis = 1)\n",
        "df_test['title'] = le.transform(df_test['title'])\n",
        "\n",
        "df_test['datetime'] = pd.to_datetime(df_test['timestamp'], unit='s')\n",
        "df_test['year'] = df_test['datetime'].dt.year\n",
        "df_test['month'] = df_test['datetime'].dt.month\n",
        "df_test['day'] = df_test['datetime'].dt.day\n",
        "\n",
        "df_test = df_test.drop(['genres', 'tag', 'timestamp_tags', 'datetime'], axis = 1)"
      ],
      "execution_count": null,
      "outputs": []
    },
    {
      "cell_type": "code",
      "metadata": {
        "id": "3GXZxSn6rR81",
        "outputId": "ffdda477-91e7-4e92-bcd7-5b9b53fe4bcb"
      },
      "source": [
        "df_test.head()"
      ],
      "execution_count": null,
      "outputs": [
        {
          "output_type": "execute_result",
          "data": {
            "text/html": [
              "<div>\n",
              "<style scoped>\n",
              "    .dataframe tbody tr th:only-of-type {\n",
              "        vertical-align: middle;\n",
              "    }\n",
              "\n",
              "    .dataframe tbody tr th {\n",
              "        vertical-align: top;\n",
              "    }\n",
              "\n",
              "    .dataframe thead th {\n",
              "        text-align: right;\n",
              "    }\n",
              "</style>\n",
              "<table border=\"1\" class=\"dataframe\">\n",
              "  <thead>\n",
              "    <tr style=\"text-align: right;\">\n",
              "      <th></th>\n",
              "      <th>user</th>\n",
              "      <th>item</th>\n",
              "      <th>rating</th>\n",
              "      <th>timestamp</th>\n",
              "      <th>title</th>\n",
              "      <th>(no genres listed)</th>\n",
              "      <th>Action</th>\n",
              "      <th>Adventure</th>\n",
              "      <th>Animation</th>\n",
              "      <th>Children</th>\n",
              "      <th>...</th>\n",
              "      <th>Musical</th>\n",
              "      <th>Mystery</th>\n",
              "      <th>Romance</th>\n",
              "      <th>Sci-Fi</th>\n",
              "      <th>Thriller</th>\n",
              "      <th>War</th>\n",
              "      <th>Western</th>\n",
              "      <th>year</th>\n",
              "      <th>month</th>\n",
              "      <th>day</th>\n",
              "    </tr>\n",
              "  </thead>\n",
              "  <tbody>\n",
              "    <tr>\n",
              "      <th>0</th>\n",
              "      <td>177</td>\n",
              "      <td>82167</td>\n",
              "      <td>3.0</td>\n",
              "      <td>1435837757</td>\n",
              "      <td>5277</td>\n",
              "      <td>0</td>\n",
              "      <td>0</td>\n",
              "      <td>0</td>\n",
              "      <td>0</td>\n",
              "      <td>0</td>\n",
              "      <td>...</td>\n",
              "      <td>0</td>\n",
              "      <td>0</td>\n",
              "      <td>1</td>\n",
              "      <td>0</td>\n",
              "      <td>0</td>\n",
              "      <td>0</td>\n",
              "      <td>0</td>\n",
              "      <td>2015</td>\n",
              "      <td>7</td>\n",
              "      <td>2</td>\n",
              "    </tr>\n",
              "    <tr>\n",
              "      <th>1</th>\n",
              "      <td>369</td>\n",
              "      <td>1500</td>\n",
              "      <td>4.5</td>\n",
              "      <td>1237081565</td>\n",
              "      <td>3661</td>\n",
              "      <td>0</td>\n",
              "      <td>0</td>\n",
              "      <td>0</td>\n",
              "      <td>0</td>\n",
              "      <td>0</td>\n",
              "      <td>...</td>\n",
              "      <td>0</td>\n",
              "      <td>0</td>\n",
              "      <td>1</td>\n",
              "      <td>0</td>\n",
              "      <td>0</td>\n",
              "      <td>0</td>\n",
              "      <td>0</td>\n",
              "      <td>2009</td>\n",
              "      <td>3</td>\n",
              "      <td>15</td>\n",
              "    </tr>\n",
              "    <tr>\n",
              "      <th>2</th>\n",
              "      <td>381</td>\n",
              "      <td>2140</td>\n",
              "      <td>3.5</td>\n",
              "      <td>1164876960</td>\n",
              "      <td>2164</td>\n",
              "      <td>0</td>\n",
              "      <td>0</td>\n",
              "      <td>1</td>\n",
              "      <td>0</td>\n",
              "      <td>0</td>\n",
              "      <td>...</td>\n",
              "      <td>0</td>\n",
              "      <td>0</td>\n",
              "      <td>0</td>\n",
              "      <td>0</td>\n",
              "      <td>0</td>\n",
              "      <td>0</td>\n",
              "      <td>0</td>\n",
              "      <td>2006</td>\n",
              "      <td>11</td>\n",
              "      <td>30</td>\n",
              "    </tr>\n",
              "    <tr>\n",
              "      <th>3</th>\n",
              "      <td>484</td>\n",
              "      <td>48780</td>\n",
              "      <td>1.5</td>\n",
              "      <td>1342229033</td>\n",
              "      <td>6782</td>\n",
              "      <td>0</td>\n",
              "      <td>0</td>\n",
              "      <td>0</td>\n",
              "      <td>0</td>\n",
              "      <td>0</td>\n",
              "      <td>...</td>\n",
              "      <td>0</td>\n",
              "      <td>1</td>\n",
              "      <td>0</td>\n",
              "      <td>1</td>\n",
              "      <td>1</td>\n",
              "      <td>0</td>\n",
              "      <td>0</td>\n",
              "      <td>2012</td>\n",
              "      <td>7</td>\n",
              "      <td>14</td>\n",
              "    </tr>\n",
              "    <tr>\n",
              "      <th>4</th>\n",
              "      <td>200</td>\n",
              "      <td>4022</td>\n",
              "      <td>3.5</td>\n",
              "      <td>1229886197</td>\n",
              "      <td>1608</td>\n",
              "      <td>0</td>\n",
              "      <td>0</td>\n",
              "      <td>0</td>\n",
              "      <td>0</td>\n",
              "      <td>0</td>\n",
              "      <td>...</td>\n",
              "      <td>0</td>\n",
              "      <td>0</td>\n",
              "      <td>0</td>\n",
              "      <td>0</td>\n",
              "      <td>0</td>\n",
              "      <td>0</td>\n",
              "      <td>0</td>\n",
              "      <td>2008</td>\n",
              "      <td>12</td>\n",
              "      <td>21</td>\n",
              "    </tr>\n",
              "  </tbody>\n",
              "</table>\n",
              "<p>5 rows × 28 columns</p>\n",
              "</div>"
            ],
            "text/plain": [
              "   user   item  rating   timestamp  title  (no genres listed)  Action  \\\n",
              "0   177  82167     3.0  1435837757   5277                   0       0   \n",
              "1   369   1500     4.5  1237081565   3661                   0       0   \n",
              "2   381   2140     3.5  1164876960   2164                   0       0   \n",
              "3   484  48780     1.5  1342229033   6782                   0       0   \n",
              "4   200   4022     3.5  1229886197   1608                   0       0   \n",
              "\n",
              "   Adventure  Animation  Children  ...  Musical  Mystery  Romance  Sci-Fi  \\\n",
              "0          0          0         0  ...        0        0        1       0   \n",
              "1          0          0         0  ...        0        0        1       0   \n",
              "2          1          0         0  ...        0        0        0       0   \n",
              "3          0          0         0  ...        0        1        0       1   \n",
              "4          0          0         0  ...        0        0        0       0   \n",
              "\n",
              "   Thriller  War  Western  year  month  day  \n",
              "0         0    0        0  2015      7    2  \n",
              "1         0    0        0  2009      3   15  \n",
              "2         0    0        0  2006     11   30  \n",
              "3         1    0        0  2012      7   14  \n",
              "4         0    0        0  2008     12   21  \n",
              "\n",
              "[5 rows x 28 columns]"
            ]
          },
          "metadata": {
            "tags": []
          },
          "execution_count": 93
        }
      ]
    },
    {
      "cell_type": "markdown",
      "metadata": {
        "id": "1773pB3grR81"
      },
      "source": [
        "### Build Models"
      ]
    },
    {
      "cell_type": "markdown",
      "metadata": {
        "id": "AGzJW2jArR82"
      },
      "source": [
        "### SVD"
      ]
    },
    {
      "cell_type": "code",
      "metadata": {
        "id": "6jYiQ0CmrR82"
      },
      "source": [
        "reader = Reader(rating_scale=(0, 5))\n",
        "\n",
        "data = Dataset.load_from_df(df_train[['user', 'item', 'rating']], reader)\n",
        "trainset = data.construct_trainset(raw_trainset=data.raw_ratings)\n",
        "\n",
        "data = Dataset.load_from_df(df_test[['user', 'item', 'rating']], reader)\n",
        "test_set = data.construct_testset(raw_testset=data.raw_ratings)"
      ],
      "execution_count": null,
      "outputs": []
    },
    {
      "cell_type": "code",
      "metadata": {
        "id": "9_V_wBJJrR82",
        "outputId": "ec471d11-af29-487f-f4e0-48d395394c78"
      },
      "source": [
        "#0.843736049276373 best\n",
        "svd = SVDpp(\n",
        "    n_epochs=36, \n",
        "    init_std_dev=0.021,\n",
        "    init_mean=0.006,\n",
        "    verbose=True\n",
        ")\n",
        "svd.fit(trainset)\n",
        "predictions = svd.test(test_set)\n",
        "print(accuracy.rmse(predictions))"
      ],
      "execution_count": null,
      "outputs": [
        {
          "output_type": "stream",
          "text": [
            " processing epoch 0\n",
            " processing epoch 1\n",
            " processing epoch 2\n",
            " processing epoch 3\n",
            " processing epoch 4\n",
            " processing epoch 5\n",
            " processing epoch 6\n",
            " processing epoch 7\n",
            " processing epoch 8\n",
            " processing epoch 9\n",
            " processing epoch 10\n",
            " processing epoch 11\n",
            " processing epoch 12\n",
            " processing epoch 13\n",
            " processing epoch 14\n",
            " processing epoch 15\n",
            " processing epoch 16\n",
            " processing epoch 17\n",
            " processing epoch 18\n",
            " processing epoch 19\n",
            " processing epoch 20\n",
            " processing epoch 21\n",
            " processing epoch 22\n",
            " processing epoch 23\n",
            " processing epoch 24\n",
            " processing epoch 25\n",
            " processing epoch 26\n",
            " processing epoch 27\n",
            " processing epoch 28\n",
            " processing epoch 29\n",
            " processing epoch 30\n",
            " processing epoch 31\n",
            " processing epoch 32\n",
            " processing epoch 33\n",
            " processing epoch 34\n",
            " processing epoch 35\n",
            "RMSE: 0.8417\n",
            "0.8417448880122917\n"
          ],
          "name": "stdout"
        }
      ]
    },
    {
      "cell_type": "markdown",
      "metadata": {
        "id": "EoUw0q40rR82"
      },
      "source": [
        "### Item-based k-NN"
      ]
    },
    {
      "cell_type": "code",
      "metadata": {
        "id": "P54Cl8lrrR82",
        "outputId": "325f2be4-b656-4400-a290-5367f1f61c03"
      },
      "source": [
        "sim_options = {\n",
        "    \"name\": \"cosine\",\n",
        "    \"min_support\": 3,\n",
        "    \"user_based\": False,\n",
        "}\n",
        "\n",
        "algo = KNNWithMeans(k=20, min_k=10, sim_options=sim_options)\n",
        "algo.fit(trainset)\n",
        "predictions = algo.test(test_set)\n",
        "print(accuracy.rmse(predictions))"
      ],
      "execution_count": null,
      "outputs": [
        {
          "output_type": "stream",
          "text": [
            "Computing the cosine similarity matrix...\n",
            "Done computing similarity matrix.\n",
            "RMSE: 0.8779\n",
            "0.8778866864637181\n"
          ],
          "name": "stdout"
        }
      ]
    },
    {
      "cell_type": "markdown",
      "metadata": {
        "id": "pHbEPtgTrR82"
      },
      "source": [
        "### User-based k-NN"
      ]
    },
    {
      "cell_type": "code",
      "metadata": {
        "id": "83302O8krR82",
        "outputId": "2afd8f32-62ef-4eab-b844-401c5ce01ade"
      },
      "source": [
        "algo = UserUser(nnbrs=14, \n",
        "                min_nbrs=9, \n",
        "                min_sim=0.096131, \n",
        "                center=True, \n",
        "                aggregate='weighted-average'\n",
        "               )\n",
        "algo.fit(df_train[['user','item', 'rating']])\n",
        "preds = predict(algo, df_test)\n",
        "print(rmse(preds['prediction'], preds['rating']))"
      ],
      "execution_count": null,
      "outputs": [
        {
          "output_type": "stream",
          "text": [
            "0.8022955067876776\n"
          ],
          "name": "stdout"
        }
      ]
    },
    {
      "cell_type": "markdown",
      "metadata": {
        "id": "6zD87kO9rR82"
      },
      "source": [
        "### Tensorflow Biased MF"
      ]
    },
    {
      "cell_type": "code",
      "metadata": {
        "id": "beB9UvCNrR82"
      },
      "source": [
        "algo = BiasedMF(0)\n",
        "algo =  Recommender.adapt(algo)\n",
        "algo = batch.train_isolated(algo, df_train)\n",
        "preds = batch.predict(algo, df_test)"
      ],
      "execution_count": null,
      "outputs": []
    },
    {
      "cell_type": "code",
      "metadata": {
        "id": "-bI4oI6trR82",
        "outputId": "89f691c0-0281-4a85-a4ee-bb38026edf92"
      },
      "source": [
        "rmse(preds['prediction'], preds['rating'])"
      ],
      "execution_count": null,
      "outputs": [
        {
          "output_type": "execute_result",
          "data": {
            "text/plain": [
              "0.9686798795383659"
            ]
          },
          "metadata": {
            "tags": []
          },
          "execution_count": 90
        }
      ]
    },
    {
      "cell_type": "markdown",
      "metadata": {
        "id": "SUhPqZIfrR82"
      },
      "source": [
        "#### Links\n",
        "1. http://surpriselib.com/\n",
        "https://surprise.readthedocs.io/en/stable/matrix_factorization.html\n",
        "2. https://www.kaggle.com/ibtesama/getting-started-with-a-movie-recommendation-system\n",
        "3. https://www.kaggle.com/ashishpatel26/movie-recommendation-of-movie-lens-data-set\n",
        "4. https://www.kaggle.com/shubhammehta21/movie-lens-small-latest-dataset/notebooks\n",
        "5. https://lkpy.readthedocs.io/_/downloads/en/latest/pdf/\n",
        "6. https://realpython.com/build-recommendation-engine-collaborative-filtering/\n",
        "7. https://towardsdatascience.com/movie-recommendation-system-based-on-movielens-ef0df580cd0e"
      ]
    },
    {
      "cell_type": "code",
      "metadata": {
        "id": "pAZaP8ehrR82"
      },
      "source": [
        "# cross_validate(svd, data, measures=['RMSE', 'MAE'], cv=5)\n",
        "# df_train[df_train['user'] == 1]\n",
        "# svd.predict(1, 260, 3)"
      ],
      "execution_count": null,
      "outputs": []
    },
    {
      "cell_type": "markdown",
      "metadata": {
        "id": "zRd0jQTdrR82"
      },
      "source": [
        "ToDo\n",
        "1. ADD Train test split on train\n",
        "2. Import linear model(xgboost?)\n",
        "3. Learn it on the predictions and validate on train_test part\n",
        "4. check stacking score on test"
      ]
    },
    {
      "cell_type": "code",
      "metadata": {
        "id": "rC2qs1uprR82"
      },
      "source": [
        ""
      ],
      "execution_count": null,
      "outputs": []
    }
  ]
}